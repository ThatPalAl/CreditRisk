{
 "cells": [
  {
   "cell_type": "code",
   "execution_count": 848,
   "id": "73778a20",
   "metadata": {},
   "outputs": [],
   "source": [
    "import pandas as pd\n",
    "import re"
   ]
  },
  {
   "cell_type": "markdown",
   "id": "45263636",
   "metadata": {},
   "source": [
    "https://archive.ics.uci.edu/dataset/144/statlog+german+credit+data:\n",
    "\n",
    "Additional Information\n",
    "\n",
    "Two datasets are provided.  the original dataset, in the form provided by Prof. Hofmann, contains categorical/symbolic attributes and is in the file \"german.data\".   \n",
    " \n",
    "For algorithms that need numerical attributes, Strathclyde University produced the file \"german.data-numeric\".  This file has been edited and several indicator variables added to make it suitable for algorithms which cannot cope with categorical variables.   Several attributes that are ordered categorical (such as attribute 17) have been coded as integer.    This was the form used by StatLog.\n",
    "\n",
    "This dataset requires use of a cost matrix (see below)\n",
    "\n",
    "Rows = Actual  \n",
    "Columns = Predicted  \n",
    "\n",
    "| Actual \\ Predicted | Class 0 | Class 1 |\n",
    "|--------------------|---------|---------|\n",
    "| Class 0            |   1     |   2     |\n",
    "| Class 1            |   5     |   0     |\n",
    "(1 = Good,  2 = Bad)\n",
    "\n",
    "The rows represent the actual classification and the columns the predicted classification.\n",
    "\n",
    "It is worse to class a customer as good when they are bad (5), than it is to class a customer as bad when they are good (1).\n"
   ]
  },
  {
   "cell_type": "code",
   "execution_count": 849,
   "id": "2cc4cd5b",
   "metadata": {},
   "outputs": [
    {
     "name": "stdout",
     "output_type": "stream",
     "text": [
      "last dir: notebooks\n"
     ]
    }
   ],
   "source": [
    "curr_path = !pwd\n",
    "curr_path = curr_path[0]\n",
    "match = re.search(r'[^/\\\\]+$', curr_path)\n",
    "print(f\"last dir: {match.group()}\")"
   ]
  },
  {
   "cell_type": "code",
   "execution_count": 850,
   "id": "17c0a4e5",
   "metadata": {},
   "outputs": [
    {
     "name": "stderr",
     "output_type": "stream",
     "text": [
      "/var/folders/wc/n17tc0jd6058m722n3d1wlc00000gn/T/ipykernel_67464/3924229361.py:1: FutureWarning: The 'delim_whitespace' keyword in pd.read_csv is deprecated and will be removed in a future version. Use ``sep='\\s+'`` instead\n",
      "  df = pd.read_csv('../data/german_credit_data/german.data', delim_whitespace=True)\n"
     ]
    },
    {
     "data": {
      "text/html": [
       "<div>\n",
       "<style scoped>\n",
       "    .dataframe tbody tr th:only-of-type {\n",
       "        vertical-align: middle;\n",
       "    }\n",
       "\n",
       "    .dataframe tbody tr th {\n",
       "        vertical-align: top;\n",
       "    }\n",
       "\n",
       "    .dataframe thead th {\n",
       "        text-align: right;\n",
       "    }\n",
       "</style>\n",
       "<table border=\"1\" class=\"dataframe\">\n",
       "  <thead>\n",
       "    <tr style=\"text-align: right;\">\n",
       "      <th></th>\n",
       "      <th>A11</th>\n",
       "      <th>6</th>\n",
       "      <th>A34</th>\n",
       "      <th>A43</th>\n",
       "      <th>1169</th>\n",
       "      <th>A65</th>\n",
       "      <th>A75</th>\n",
       "      <th>4</th>\n",
       "      <th>A93</th>\n",
       "      <th>A101</th>\n",
       "      <th>...</th>\n",
       "      <th>A121</th>\n",
       "      <th>67</th>\n",
       "      <th>A143</th>\n",
       "      <th>A152</th>\n",
       "      <th>2</th>\n",
       "      <th>A173</th>\n",
       "      <th>1</th>\n",
       "      <th>A192</th>\n",
       "      <th>A201</th>\n",
       "      <th>1.1</th>\n",
       "    </tr>\n",
       "  </thead>\n",
       "  <tbody>\n",
       "    <tr>\n",
       "      <th>0</th>\n",
       "      <td>A12</td>\n",
       "      <td>48</td>\n",
       "      <td>A32</td>\n",
       "      <td>A43</td>\n",
       "      <td>5951</td>\n",
       "      <td>A61</td>\n",
       "      <td>A73</td>\n",
       "      <td>2</td>\n",
       "      <td>A92</td>\n",
       "      <td>A101</td>\n",
       "      <td>...</td>\n",
       "      <td>A121</td>\n",
       "      <td>22</td>\n",
       "      <td>A143</td>\n",
       "      <td>A152</td>\n",
       "      <td>1</td>\n",
       "      <td>A173</td>\n",
       "      <td>1</td>\n",
       "      <td>A191</td>\n",
       "      <td>A201</td>\n",
       "      <td>2</td>\n",
       "    </tr>\n",
       "    <tr>\n",
       "      <th>1</th>\n",
       "      <td>A14</td>\n",
       "      <td>12</td>\n",
       "      <td>A34</td>\n",
       "      <td>A46</td>\n",
       "      <td>2096</td>\n",
       "      <td>A61</td>\n",
       "      <td>A74</td>\n",
       "      <td>2</td>\n",
       "      <td>A93</td>\n",
       "      <td>A101</td>\n",
       "      <td>...</td>\n",
       "      <td>A121</td>\n",
       "      <td>49</td>\n",
       "      <td>A143</td>\n",
       "      <td>A152</td>\n",
       "      <td>1</td>\n",
       "      <td>A172</td>\n",
       "      <td>2</td>\n",
       "      <td>A191</td>\n",
       "      <td>A201</td>\n",
       "      <td>1</td>\n",
       "    </tr>\n",
       "    <tr>\n",
       "      <th>2</th>\n",
       "      <td>A11</td>\n",
       "      <td>42</td>\n",
       "      <td>A32</td>\n",
       "      <td>A42</td>\n",
       "      <td>7882</td>\n",
       "      <td>A61</td>\n",
       "      <td>A74</td>\n",
       "      <td>2</td>\n",
       "      <td>A93</td>\n",
       "      <td>A103</td>\n",
       "      <td>...</td>\n",
       "      <td>A122</td>\n",
       "      <td>45</td>\n",
       "      <td>A143</td>\n",
       "      <td>A153</td>\n",
       "      <td>1</td>\n",
       "      <td>A173</td>\n",
       "      <td>2</td>\n",
       "      <td>A191</td>\n",
       "      <td>A201</td>\n",
       "      <td>1</td>\n",
       "    </tr>\n",
       "    <tr>\n",
       "      <th>3</th>\n",
       "      <td>A11</td>\n",
       "      <td>24</td>\n",
       "      <td>A33</td>\n",
       "      <td>A40</td>\n",
       "      <td>4870</td>\n",
       "      <td>A61</td>\n",
       "      <td>A73</td>\n",
       "      <td>3</td>\n",
       "      <td>A93</td>\n",
       "      <td>A101</td>\n",
       "      <td>...</td>\n",
       "      <td>A124</td>\n",
       "      <td>53</td>\n",
       "      <td>A143</td>\n",
       "      <td>A153</td>\n",
       "      <td>2</td>\n",
       "      <td>A173</td>\n",
       "      <td>2</td>\n",
       "      <td>A191</td>\n",
       "      <td>A201</td>\n",
       "      <td>2</td>\n",
       "    </tr>\n",
       "    <tr>\n",
       "      <th>4</th>\n",
       "      <td>A14</td>\n",
       "      <td>36</td>\n",
       "      <td>A32</td>\n",
       "      <td>A46</td>\n",
       "      <td>9055</td>\n",
       "      <td>A65</td>\n",
       "      <td>A73</td>\n",
       "      <td>2</td>\n",
       "      <td>A93</td>\n",
       "      <td>A101</td>\n",
       "      <td>...</td>\n",
       "      <td>A124</td>\n",
       "      <td>35</td>\n",
       "      <td>A143</td>\n",
       "      <td>A153</td>\n",
       "      <td>1</td>\n",
       "      <td>A172</td>\n",
       "      <td>2</td>\n",
       "      <td>A192</td>\n",
       "      <td>A201</td>\n",
       "      <td>1</td>\n",
       "    </tr>\n",
       "  </tbody>\n",
       "</table>\n",
       "<p>5 rows × 21 columns</p>\n",
       "</div>"
      ],
      "text/plain": [
       "   A11   6  A34  A43  1169  A65  A75  4  A93  A101  ...  A121  67  A143  A152  \\\n",
       "0  A12  48  A32  A43  5951  A61  A73  2  A92  A101  ...  A121  22  A143  A152   \n",
       "1  A14  12  A34  A46  2096  A61  A74  2  A93  A101  ...  A121  49  A143  A152   \n",
       "2  A11  42  A32  A42  7882  A61  A74  2  A93  A103  ...  A122  45  A143  A153   \n",
       "3  A11  24  A33  A40  4870  A61  A73  3  A93  A101  ...  A124  53  A143  A153   \n",
       "4  A14  36  A32  A46  9055  A65  A73  2  A93  A101  ...  A124  35  A143  A153   \n",
       "\n",
       "   2  A173  1  A192  A201 1.1  \n",
       "0  1  A173  1  A191  A201   2  \n",
       "1  1  A172  2  A191  A201   1  \n",
       "2  1  A173  2  A191  A201   1  \n",
       "3  2  A173  2  A191  A201   2  \n",
       "4  1  A172  2  A192  A201   1  \n",
       "\n",
       "[5 rows x 21 columns]"
      ]
     },
     "execution_count": 850,
     "metadata": {},
     "output_type": "execute_result"
    }
   ],
   "source": [
    "df = pd.read_csv('../data/german_credit_data/german.data', delim_whitespace=True)\n",
    "df.head()"
   ]
  },
  {
   "cell_type": "code",
   "execution_count": 851,
   "id": "b34b6705",
   "metadata": {},
   "outputs": [
    {
     "name": "stderr",
     "output_type": "stream",
     "text": [
      "/var/folders/wc/n17tc0jd6058m722n3d1wlc00000gn/T/ipykernel_67464/4245443178.py:1: FutureWarning: The 'delim_whitespace' keyword in pd.read_csv is deprecated and will be removed in a future version. Use ``sep='\\s+'`` instead\n",
      "  df = pd.read_csv('../data/german_credit_data/german.data', delim_whitespace=True, header=None)\n"
     ]
    },
    {
     "data": {
      "text/html": [
       "<div>\n",
       "<style scoped>\n",
       "    .dataframe tbody tr th:only-of-type {\n",
       "        vertical-align: middle;\n",
       "    }\n",
       "\n",
       "    .dataframe tbody tr th {\n",
       "        vertical-align: top;\n",
       "    }\n",
       "\n",
       "    .dataframe thead th {\n",
       "        text-align: right;\n",
       "    }\n",
       "</style>\n",
       "<table border=\"1\" class=\"dataframe\">\n",
       "  <thead>\n",
       "    <tr style=\"text-align: right;\">\n",
       "      <th></th>\n",
       "      <th>0</th>\n",
       "      <th>1</th>\n",
       "      <th>2</th>\n",
       "      <th>3</th>\n",
       "      <th>4</th>\n",
       "      <th>5</th>\n",
       "      <th>6</th>\n",
       "      <th>7</th>\n",
       "      <th>8</th>\n",
       "      <th>9</th>\n",
       "      <th>...</th>\n",
       "      <th>11</th>\n",
       "      <th>12</th>\n",
       "      <th>13</th>\n",
       "      <th>14</th>\n",
       "      <th>15</th>\n",
       "      <th>16</th>\n",
       "      <th>17</th>\n",
       "      <th>18</th>\n",
       "      <th>19</th>\n",
       "      <th>20</th>\n",
       "    </tr>\n",
       "  </thead>\n",
       "  <tbody>\n",
       "    <tr>\n",
       "      <th>0</th>\n",
       "      <td>A11</td>\n",
       "      <td>6</td>\n",
       "      <td>A34</td>\n",
       "      <td>A43</td>\n",
       "      <td>1169</td>\n",
       "      <td>A65</td>\n",
       "      <td>A75</td>\n",
       "      <td>4</td>\n",
       "      <td>A93</td>\n",
       "      <td>A101</td>\n",
       "      <td>...</td>\n",
       "      <td>A121</td>\n",
       "      <td>67</td>\n",
       "      <td>A143</td>\n",
       "      <td>A152</td>\n",
       "      <td>2</td>\n",
       "      <td>A173</td>\n",
       "      <td>1</td>\n",
       "      <td>A192</td>\n",
       "      <td>A201</td>\n",
       "      <td>1</td>\n",
       "    </tr>\n",
       "    <tr>\n",
       "      <th>1</th>\n",
       "      <td>A12</td>\n",
       "      <td>48</td>\n",
       "      <td>A32</td>\n",
       "      <td>A43</td>\n",
       "      <td>5951</td>\n",
       "      <td>A61</td>\n",
       "      <td>A73</td>\n",
       "      <td>2</td>\n",
       "      <td>A92</td>\n",
       "      <td>A101</td>\n",
       "      <td>...</td>\n",
       "      <td>A121</td>\n",
       "      <td>22</td>\n",
       "      <td>A143</td>\n",
       "      <td>A152</td>\n",
       "      <td>1</td>\n",
       "      <td>A173</td>\n",
       "      <td>1</td>\n",
       "      <td>A191</td>\n",
       "      <td>A201</td>\n",
       "      <td>2</td>\n",
       "    </tr>\n",
       "    <tr>\n",
       "      <th>2</th>\n",
       "      <td>A14</td>\n",
       "      <td>12</td>\n",
       "      <td>A34</td>\n",
       "      <td>A46</td>\n",
       "      <td>2096</td>\n",
       "      <td>A61</td>\n",
       "      <td>A74</td>\n",
       "      <td>2</td>\n",
       "      <td>A93</td>\n",
       "      <td>A101</td>\n",
       "      <td>...</td>\n",
       "      <td>A121</td>\n",
       "      <td>49</td>\n",
       "      <td>A143</td>\n",
       "      <td>A152</td>\n",
       "      <td>1</td>\n",
       "      <td>A172</td>\n",
       "      <td>2</td>\n",
       "      <td>A191</td>\n",
       "      <td>A201</td>\n",
       "      <td>1</td>\n",
       "    </tr>\n",
       "    <tr>\n",
       "      <th>3</th>\n",
       "      <td>A11</td>\n",
       "      <td>42</td>\n",
       "      <td>A32</td>\n",
       "      <td>A42</td>\n",
       "      <td>7882</td>\n",
       "      <td>A61</td>\n",
       "      <td>A74</td>\n",
       "      <td>2</td>\n",
       "      <td>A93</td>\n",
       "      <td>A103</td>\n",
       "      <td>...</td>\n",
       "      <td>A122</td>\n",
       "      <td>45</td>\n",
       "      <td>A143</td>\n",
       "      <td>A153</td>\n",
       "      <td>1</td>\n",
       "      <td>A173</td>\n",
       "      <td>2</td>\n",
       "      <td>A191</td>\n",
       "      <td>A201</td>\n",
       "      <td>1</td>\n",
       "    </tr>\n",
       "    <tr>\n",
       "      <th>4</th>\n",
       "      <td>A11</td>\n",
       "      <td>24</td>\n",
       "      <td>A33</td>\n",
       "      <td>A40</td>\n",
       "      <td>4870</td>\n",
       "      <td>A61</td>\n",
       "      <td>A73</td>\n",
       "      <td>3</td>\n",
       "      <td>A93</td>\n",
       "      <td>A101</td>\n",
       "      <td>...</td>\n",
       "      <td>A124</td>\n",
       "      <td>53</td>\n",
       "      <td>A143</td>\n",
       "      <td>A153</td>\n",
       "      <td>2</td>\n",
       "      <td>A173</td>\n",
       "      <td>2</td>\n",
       "      <td>A191</td>\n",
       "      <td>A201</td>\n",
       "      <td>2</td>\n",
       "    </tr>\n",
       "  </tbody>\n",
       "</table>\n",
       "<p>5 rows × 21 columns</p>\n",
       "</div>"
      ],
      "text/plain": [
       "    0   1    2    3     4    5    6   7    8     9   ...    11  12    13  \\\n",
       "0  A11   6  A34  A43  1169  A65  A75   4  A93  A101  ...  A121  67  A143   \n",
       "1  A12  48  A32  A43  5951  A61  A73   2  A92  A101  ...  A121  22  A143   \n",
       "2  A14  12  A34  A46  2096  A61  A74   2  A93  A101  ...  A121  49  A143   \n",
       "3  A11  42  A32  A42  7882  A61  A74   2  A93  A103  ...  A122  45  A143   \n",
       "4  A11  24  A33  A40  4870  A61  A73   3  A93  A101  ...  A124  53  A143   \n",
       "\n",
       "     14 15    16 17    18    19 20  \n",
       "0  A152  2  A173  1  A192  A201  1  \n",
       "1  A152  1  A173  1  A191  A201  2  \n",
       "2  A152  1  A172  2  A191  A201  1  \n",
       "3  A153  1  A173  2  A191  A201  1  \n",
       "4  A153  2  A173  2  A191  A201  2  \n",
       "\n",
       "[5 rows x 21 columns]"
      ]
     },
     "execution_count": 851,
     "metadata": {},
     "output_type": "execute_result"
    }
   ],
   "source": [
    "df = pd.read_csv('../data/german_credit_data/german.data', delim_whitespace=True, header=None)\n",
    "df.head()"
   ]
  },
  {
   "cell_type": "code",
   "execution_count": 852,
   "id": "9dffd6b3",
   "metadata": {},
   "outputs": [
    {
     "data": {
      "text/plain": [
       "array([1, 2])"
      ]
     },
     "execution_count": 852,
     "metadata": {},
     "output_type": "execute_result"
    }
   ],
   "source": [
    "df[df.columns[-1]].unique()"
   ]
  },
  {
   "cell_type": "code",
   "execution_count": 853,
   "id": "12004da1",
   "metadata": {},
   "outputs": [
    {
     "data": {
      "text/plain": [
       "1000"
      ]
     },
     "execution_count": 853,
     "metadata": {},
     "output_type": "execute_result"
    }
   ],
   "source": [
    "len(df)"
   ]
  },
  {
   "cell_type": "code",
   "execution_count": 854,
   "id": "f9a5b994",
   "metadata": {},
   "outputs": [
    {
     "data": {
      "text/plain": [
       "0     object\n",
       "1      int64\n",
       "2     object\n",
       "3     object\n",
       "4      int64\n",
       "5     object\n",
       "6     object\n",
       "7      int64\n",
       "8     object\n",
       "9     object\n",
       "10     int64\n",
       "11    object\n",
       "12     int64\n",
       "13    object\n",
       "14    object\n",
       "15     int64\n",
       "16    object\n",
       "17     int64\n",
       "18    object\n",
       "19    object\n",
       "20     int64\n",
       "dtype: object"
      ]
     },
     "execution_count": 854,
     "metadata": {},
     "output_type": "execute_result"
    }
   ],
   "source": [
    "df.dtypes"
   ]
  },
  {
   "cell_type": "code",
   "execution_count": 855,
   "id": "b27c213e",
   "metadata": {},
   "outputs": [
    {
     "name": "stderr",
     "output_type": "stream",
     "text": [
      "/var/folders/wc/n17tc0jd6058m722n3d1wlc00000gn/T/ipykernel_67464/3154384313.py:1: FutureWarning: The 'delim_whitespace' keyword in pd.read_csv is deprecated and will be removed in a future version. Use ``sep='\\s+'`` instead\n",
      "  df_numeric = pd.read_csv('../data/german_credit_data/german.data-numeric', delim_whitespace=True, header=None)\n"
     ]
    },
    {
     "data": {
      "text/html": [
       "<div>\n",
       "<style scoped>\n",
       "    .dataframe tbody tr th:only-of-type {\n",
       "        vertical-align: middle;\n",
       "    }\n",
       "\n",
       "    .dataframe tbody tr th {\n",
       "        vertical-align: top;\n",
       "    }\n",
       "\n",
       "    .dataframe thead th {\n",
       "        text-align: right;\n",
       "    }\n",
       "</style>\n",
       "<table border=\"1\" class=\"dataframe\">\n",
       "  <thead>\n",
       "    <tr style=\"text-align: right;\">\n",
       "      <th></th>\n",
       "      <th>0</th>\n",
       "      <th>1</th>\n",
       "      <th>2</th>\n",
       "      <th>3</th>\n",
       "      <th>4</th>\n",
       "      <th>5</th>\n",
       "      <th>6</th>\n",
       "      <th>7</th>\n",
       "      <th>8</th>\n",
       "      <th>9</th>\n",
       "      <th>...</th>\n",
       "      <th>15</th>\n",
       "      <th>16</th>\n",
       "      <th>17</th>\n",
       "      <th>18</th>\n",
       "      <th>19</th>\n",
       "      <th>20</th>\n",
       "      <th>21</th>\n",
       "      <th>22</th>\n",
       "      <th>23</th>\n",
       "      <th>24</th>\n",
       "    </tr>\n",
       "  </thead>\n",
       "  <tbody>\n",
       "    <tr>\n",
       "      <th>0</th>\n",
       "      <td>1</td>\n",
       "      <td>6</td>\n",
       "      <td>4</td>\n",
       "      <td>12</td>\n",
       "      <td>5</td>\n",
       "      <td>5</td>\n",
       "      <td>3</td>\n",
       "      <td>4</td>\n",
       "      <td>1</td>\n",
       "      <td>67</td>\n",
       "      <td>...</td>\n",
       "      <td>0</td>\n",
       "      <td>0</td>\n",
       "      <td>1</td>\n",
       "      <td>0</td>\n",
       "      <td>0</td>\n",
       "      <td>1</td>\n",
       "      <td>0</td>\n",
       "      <td>0</td>\n",
       "      <td>1</td>\n",
       "      <td>1</td>\n",
       "    </tr>\n",
       "    <tr>\n",
       "      <th>1</th>\n",
       "      <td>2</td>\n",
       "      <td>48</td>\n",
       "      <td>2</td>\n",
       "      <td>60</td>\n",
       "      <td>1</td>\n",
       "      <td>3</td>\n",
       "      <td>2</td>\n",
       "      <td>2</td>\n",
       "      <td>1</td>\n",
       "      <td>22</td>\n",
       "      <td>...</td>\n",
       "      <td>0</td>\n",
       "      <td>0</td>\n",
       "      <td>1</td>\n",
       "      <td>0</td>\n",
       "      <td>0</td>\n",
       "      <td>1</td>\n",
       "      <td>0</td>\n",
       "      <td>0</td>\n",
       "      <td>1</td>\n",
       "      <td>2</td>\n",
       "    </tr>\n",
       "    <tr>\n",
       "      <th>2</th>\n",
       "      <td>4</td>\n",
       "      <td>12</td>\n",
       "      <td>4</td>\n",
       "      <td>21</td>\n",
       "      <td>1</td>\n",
       "      <td>4</td>\n",
       "      <td>3</td>\n",
       "      <td>3</td>\n",
       "      <td>1</td>\n",
       "      <td>49</td>\n",
       "      <td>...</td>\n",
       "      <td>0</td>\n",
       "      <td>0</td>\n",
       "      <td>1</td>\n",
       "      <td>0</td>\n",
       "      <td>0</td>\n",
       "      <td>1</td>\n",
       "      <td>0</td>\n",
       "      <td>1</td>\n",
       "      <td>0</td>\n",
       "      <td>1</td>\n",
       "    </tr>\n",
       "    <tr>\n",
       "      <th>3</th>\n",
       "      <td>1</td>\n",
       "      <td>42</td>\n",
       "      <td>2</td>\n",
       "      <td>79</td>\n",
       "      <td>1</td>\n",
       "      <td>4</td>\n",
       "      <td>3</td>\n",
       "      <td>4</td>\n",
       "      <td>2</td>\n",
       "      <td>45</td>\n",
       "      <td>...</td>\n",
       "      <td>0</td>\n",
       "      <td>0</td>\n",
       "      <td>0</td>\n",
       "      <td>0</td>\n",
       "      <td>0</td>\n",
       "      <td>0</td>\n",
       "      <td>0</td>\n",
       "      <td>0</td>\n",
       "      <td>1</td>\n",
       "      <td>1</td>\n",
       "    </tr>\n",
       "    <tr>\n",
       "      <th>4</th>\n",
       "      <td>1</td>\n",
       "      <td>24</td>\n",
       "      <td>3</td>\n",
       "      <td>49</td>\n",
       "      <td>1</td>\n",
       "      <td>3</td>\n",
       "      <td>3</td>\n",
       "      <td>4</td>\n",
       "      <td>4</td>\n",
       "      <td>53</td>\n",
       "      <td>...</td>\n",
       "      <td>1</td>\n",
       "      <td>0</td>\n",
       "      <td>1</td>\n",
       "      <td>0</td>\n",
       "      <td>0</td>\n",
       "      <td>0</td>\n",
       "      <td>0</td>\n",
       "      <td>0</td>\n",
       "      <td>1</td>\n",
       "      <td>2</td>\n",
       "    </tr>\n",
       "  </tbody>\n",
       "</table>\n",
       "<p>5 rows × 25 columns</p>\n",
       "</div>"
      ],
      "text/plain": [
       "   0   1   2   3   4   5   6   7   8   9   ...  15  16  17  18  19  20  21  \\\n",
       "0   1   6   4  12   5   5   3   4   1  67  ...   0   0   1   0   0   1   0   \n",
       "1   2  48   2  60   1   3   2   2   1  22  ...   0   0   1   0   0   1   0   \n",
       "2   4  12   4  21   1   4   3   3   1  49  ...   0   0   1   0   0   1   0   \n",
       "3   1  42   2  79   1   4   3   4   2  45  ...   0   0   0   0   0   0   0   \n",
       "4   1  24   3  49   1   3   3   4   4  53  ...   1   0   1   0   0   0   0   \n",
       "\n",
       "   22  23  24  \n",
       "0   0   1   1  \n",
       "1   0   1   2  \n",
       "2   1   0   1  \n",
       "3   0   1   1  \n",
       "4   0   1   2  \n",
       "\n",
       "[5 rows x 25 columns]"
      ]
     },
     "execution_count": 855,
     "metadata": {},
     "output_type": "execute_result"
    }
   ],
   "source": [
    "df_numeric = pd.read_csv('../data/german_credit_data/german.data-numeric', delim_whitespace=True, header=None)\n",
    "df_numeric.head()"
   ]
  },
  {
   "cell_type": "code",
   "execution_count": 856,
   "id": "f8e10d73",
   "metadata": {},
   "outputs": [
    {
     "data": {
      "text/plain": [
       "array([1, 2])"
      ]
     },
     "execution_count": 856,
     "metadata": {},
     "output_type": "execute_result"
    }
   ],
   "source": [
    "df_numeric[df_numeric.columns[-1]].unique()\n"
   ]
  },
  {
   "cell_type": "code",
   "execution_count": 857,
   "id": "3ee54891",
   "metadata": {},
   "outputs": [
    {
     "data": {
      "text/plain": [
       "1000"
      ]
     },
     "execution_count": 857,
     "metadata": {},
     "output_type": "execute_result"
    }
   ],
   "source": [
    "len(df_numeric)"
   ]
  },
  {
   "cell_type": "code",
   "execution_count": 858,
   "id": "0330ccc8",
   "metadata": {},
   "outputs": [
    {
     "data": {
      "text/plain": [
       "0     int64\n",
       "1     int64\n",
       "2     int64\n",
       "3     int64\n",
       "4     int64\n",
       "5     int64\n",
       "6     int64\n",
       "7     int64\n",
       "8     int64\n",
       "9     int64\n",
       "10    int64\n",
       "11    int64\n",
       "12    int64\n",
       "13    int64\n",
       "14    int64\n",
       "15    int64\n",
       "16    int64\n",
       "17    int64\n",
       "18    int64\n",
       "19    int64\n",
       "20    int64\n",
       "21    int64\n",
       "22    int64\n",
       "23    int64\n",
       "24    int64\n",
       "dtype: object"
      ]
     },
     "execution_count": 858,
     "metadata": {},
     "output_type": "execute_result"
    }
   ],
   "source": [
    "df_numeric.dtypes"
   ]
  },
  {
   "cell_type": "markdown",
   "id": "fbe03b5f",
   "metadata": {},
   "source": [
    "Target value distribution:"
   ]
  },
  {
   "cell_type": "code",
   "execution_count": 859,
   "id": "ea46ea16",
   "metadata": {},
   "outputs": [
    {
     "name": "stdout",
     "output_type": "stream",
     "text": [
      "Counts:\n",
      " 24\n",
      "1    700\n",
      "2    300\n",
      "Name: count, dtype: int64\n",
      "Percentages:\n",
      " 24\n",
      "1    70.0\n",
      "2    30.0\n",
      "Name: proportion, dtype: float64\n"
     ]
    }
   ],
   "source": [
    "target_col = df_numeric.columns[-1]\n",
    "\n",
    "class_counts = df_numeric[target_col].value_counts()\n",
    "class_perc = df_numeric[target_col].value_counts(normalize=True) * 100\n",
    "\n",
    "print(\"Counts:\\n\", class_counts)\n",
    "print(\"Percentages:\\n\", class_perc)"
   ]
  },
  {
   "cell_type": "markdown",
   "id": "80e79026",
   "metadata": {},
   "source": [
    "Basic statistic applied to dataset:"
   ]
  },
  {
   "cell_type": "code",
   "execution_count": 860,
   "id": "59124f2b",
   "metadata": {},
   "outputs": [
    {
     "data": {
      "text/html": [
       "<div>\n",
       "<style scoped>\n",
       "    .dataframe tbody tr th:only-of-type {\n",
       "        vertical-align: middle;\n",
       "    }\n",
       "\n",
       "    .dataframe tbody tr th {\n",
       "        vertical-align: top;\n",
       "    }\n",
       "\n",
       "    .dataframe thead th {\n",
       "        text-align: right;\n",
       "    }\n",
       "</style>\n",
       "<table border=\"1\" class=\"dataframe\">\n",
       "  <thead>\n",
       "    <tr style=\"text-align: right;\">\n",
       "      <th></th>\n",
       "      <th>count</th>\n",
       "      <th>mean</th>\n",
       "      <th>std</th>\n",
       "      <th>min</th>\n",
       "      <th>25%</th>\n",
       "      <th>50%</th>\n",
       "      <th>75%</th>\n",
       "      <th>max</th>\n",
       "    </tr>\n",
       "  </thead>\n",
       "  <tbody>\n",
       "    <tr>\n",
       "      <th>0</th>\n",
       "      <td>1000.0</td>\n",
       "      <td>2.577</td>\n",
       "      <td>1.257638</td>\n",
       "      <td>1.0</td>\n",
       "      <td>1.0</td>\n",
       "      <td>2.0</td>\n",
       "      <td>4.0</td>\n",
       "      <td>4.0</td>\n",
       "    </tr>\n",
       "    <tr>\n",
       "      <th>1</th>\n",
       "      <td>1000.0</td>\n",
       "      <td>20.903</td>\n",
       "      <td>12.058814</td>\n",
       "      <td>4.0</td>\n",
       "      <td>12.0</td>\n",
       "      <td>18.0</td>\n",
       "      <td>24.0</td>\n",
       "      <td>72.0</td>\n",
       "    </tr>\n",
       "    <tr>\n",
       "      <th>2</th>\n",
       "      <td>1000.0</td>\n",
       "      <td>2.545</td>\n",
       "      <td>1.083120</td>\n",
       "      <td>0.0</td>\n",
       "      <td>2.0</td>\n",
       "      <td>2.0</td>\n",
       "      <td>4.0</td>\n",
       "      <td>4.0</td>\n",
       "    </tr>\n",
       "    <tr>\n",
       "      <th>3</th>\n",
       "      <td>1000.0</td>\n",
       "      <td>32.711</td>\n",
       "      <td>28.252605</td>\n",
       "      <td>2.0</td>\n",
       "      <td>14.0</td>\n",
       "      <td>23.0</td>\n",
       "      <td>40.0</td>\n",
       "      <td>184.0</td>\n",
       "    </tr>\n",
       "    <tr>\n",
       "      <th>4</th>\n",
       "      <td>1000.0</td>\n",
       "      <td>2.105</td>\n",
       "      <td>1.580023</td>\n",
       "      <td>1.0</td>\n",
       "      <td>1.0</td>\n",
       "      <td>1.0</td>\n",
       "      <td>3.0</td>\n",
       "      <td>5.0</td>\n",
       "    </tr>\n",
       "    <tr>\n",
       "      <th>5</th>\n",
       "      <td>1000.0</td>\n",
       "      <td>3.384</td>\n",
       "      <td>1.208306</td>\n",
       "      <td>1.0</td>\n",
       "      <td>3.0</td>\n",
       "      <td>3.0</td>\n",
       "      <td>5.0</td>\n",
       "      <td>5.0</td>\n",
       "    </tr>\n",
       "    <tr>\n",
       "      <th>6</th>\n",
       "      <td>1000.0</td>\n",
       "      <td>2.682</td>\n",
       "      <td>0.708080</td>\n",
       "      <td>1.0</td>\n",
       "      <td>2.0</td>\n",
       "      <td>3.0</td>\n",
       "      <td>3.0</td>\n",
       "      <td>4.0</td>\n",
       "    </tr>\n",
       "    <tr>\n",
       "      <th>7</th>\n",
       "      <td>1000.0</td>\n",
       "      <td>2.845</td>\n",
       "      <td>1.103718</td>\n",
       "      <td>1.0</td>\n",
       "      <td>2.0</td>\n",
       "      <td>3.0</td>\n",
       "      <td>4.0</td>\n",
       "      <td>4.0</td>\n",
       "    </tr>\n",
       "    <tr>\n",
       "      <th>8</th>\n",
       "      <td>1000.0</td>\n",
       "      <td>2.358</td>\n",
       "      <td>1.050209</td>\n",
       "      <td>1.0</td>\n",
       "      <td>1.0</td>\n",
       "      <td>2.0</td>\n",
       "      <td>3.0</td>\n",
       "      <td>4.0</td>\n",
       "    </tr>\n",
       "    <tr>\n",
       "      <th>9</th>\n",
       "      <td>1000.0</td>\n",
       "      <td>35.546</td>\n",
       "      <td>11.375469</td>\n",
       "      <td>19.0</td>\n",
       "      <td>27.0</td>\n",
       "      <td>33.0</td>\n",
       "      <td>42.0</td>\n",
       "      <td>75.0</td>\n",
       "    </tr>\n",
       "    <tr>\n",
       "      <th>10</th>\n",
       "      <td>1000.0</td>\n",
       "      <td>2.675</td>\n",
       "      <td>0.705601</td>\n",
       "      <td>1.0</td>\n",
       "      <td>3.0</td>\n",
       "      <td>3.0</td>\n",
       "      <td>3.0</td>\n",
       "      <td>3.0</td>\n",
       "    </tr>\n",
       "    <tr>\n",
       "      <th>11</th>\n",
       "      <td>1000.0</td>\n",
       "      <td>1.407</td>\n",
       "      <td>0.577654</td>\n",
       "      <td>1.0</td>\n",
       "      <td>1.0</td>\n",
       "      <td>1.0</td>\n",
       "      <td>2.0</td>\n",
       "      <td>4.0</td>\n",
       "    </tr>\n",
       "    <tr>\n",
       "      <th>12</th>\n",
       "      <td>1000.0</td>\n",
       "      <td>1.155</td>\n",
       "      <td>0.362086</td>\n",
       "      <td>1.0</td>\n",
       "      <td>1.0</td>\n",
       "      <td>1.0</td>\n",
       "      <td>1.0</td>\n",
       "      <td>2.0</td>\n",
       "    </tr>\n",
       "    <tr>\n",
       "      <th>13</th>\n",
       "      <td>1000.0</td>\n",
       "      <td>1.404</td>\n",
       "      <td>0.490943</td>\n",
       "      <td>1.0</td>\n",
       "      <td>1.0</td>\n",
       "      <td>1.0</td>\n",
       "      <td>2.0</td>\n",
       "      <td>2.0</td>\n",
       "    </tr>\n",
       "    <tr>\n",
       "      <th>14</th>\n",
       "      <td>1000.0</td>\n",
       "      <td>1.037</td>\n",
       "      <td>0.188856</td>\n",
       "      <td>1.0</td>\n",
       "      <td>1.0</td>\n",
       "      <td>1.0</td>\n",
       "      <td>1.0</td>\n",
       "      <td>2.0</td>\n",
       "    </tr>\n",
       "    <tr>\n",
       "      <th>15</th>\n",
       "      <td>1000.0</td>\n",
       "      <td>0.234</td>\n",
       "      <td>0.423584</td>\n",
       "      <td>0.0</td>\n",
       "      <td>0.0</td>\n",
       "      <td>0.0</td>\n",
       "      <td>0.0</td>\n",
       "      <td>1.0</td>\n",
       "    </tr>\n",
       "    <tr>\n",
       "      <th>16</th>\n",
       "      <td>1000.0</td>\n",
       "      <td>0.103</td>\n",
       "      <td>0.304111</td>\n",
       "      <td>0.0</td>\n",
       "      <td>0.0</td>\n",
       "      <td>0.0</td>\n",
       "      <td>0.0</td>\n",
       "      <td>1.0</td>\n",
       "    </tr>\n",
       "    <tr>\n",
       "      <th>17</th>\n",
       "      <td>1000.0</td>\n",
       "      <td>0.907</td>\n",
       "      <td>0.290578</td>\n",
       "      <td>0.0</td>\n",
       "      <td>1.0</td>\n",
       "      <td>1.0</td>\n",
       "      <td>1.0</td>\n",
       "      <td>1.0</td>\n",
       "    </tr>\n",
       "    <tr>\n",
       "      <th>18</th>\n",
       "      <td>1000.0</td>\n",
       "      <td>0.041</td>\n",
       "      <td>0.198389</td>\n",
       "      <td>0.0</td>\n",
       "      <td>0.0</td>\n",
       "      <td>0.0</td>\n",
       "      <td>0.0</td>\n",
       "      <td>1.0</td>\n",
       "    </tr>\n",
       "    <tr>\n",
       "      <th>19</th>\n",
       "      <td>1000.0</td>\n",
       "      <td>0.179</td>\n",
       "      <td>0.383544</td>\n",
       "      <td>0.0</td>\n",
       "      <td>0.0</td>\n",
       "      <td>0.0</td>\n",
       "      <td>0.0</td>\n",
       "      <td>1.0</td>\n",
       "    </tr>\n",
       "    <tr>\n",
       "      <th>20</th>\n",
       "      <td>1000.0</td>\n",
       "      <td>0.713</td>\n",
       "      <td>0.452588</td>\n",
       "      <td>0.0</td>\n",
       "      <td>0.0</td>\n",
       "      <td>1.0</td>\n",
       "      <td>1.0</td>\n",
       "      <td>1.0</td>\n",
       "    </tr>\n",
       "    <tr>\n",
       "      <th>21</th>\n",
       "      <td>1000.0</td>\n",
       "      <td>0.022</td>\n",
       "      <td>0.146757</td>\n",
       "      <td>0.0</td>\n",
       "      <td>0.0</td>\n",
       "      <td>0.0</td>\n",
       "      <td>0.0</td>\n",
       "      <td>1.0</td>\n",
       "    </tr>\n",
       "    <tr>\n",
       "      <th>22</th>\n",
       "      <td>1000.0</td>\n",
       "      <td>0.200</td>\n",
       "      <td>0.400200</td>\n",
       "      <td>0.0</td>\n",
       "      <td>0.0</td>\n",
       "      <td>0.0</td>\n",
       "      <td>0.0</td>\n",
       "      <td>1.0</td>\n",
       "    </tr>\n",
       "    <tr>\n",
       "      <th>23</th>\n",
       "      <td>1000.0</td>\n",
       "      <td>0.630</td>\n",
       "      <td>0.483046</td>\n",
       "      <td>0.0</td>\n",
       "      <td>0.0</td>\n",
       "      <td>1.0</td>\n",
       "      <td>1.0</td>\n",
       "      <td>1.0</td>\n",
       "    </tr>\n",
       "    <tr>\n",
       "      <th>24</th>\n",
       "      <td>1000.0</td>\n",
       "      <td>1.300</td>\n",
       "      <td>0.458487</td>\n",
       "      <td>1.0</td>\n",
       "      <td>1.0</td>\n",
       "      <td>1.0</td>\n",
       "      <td>2.0</td>\n",
       "      <td>2.0</td>\n",
       "    </tr>\n",
       "  </tbody>\n",
       "</table>\n",
       "</div>"
      ],
      "text/plain": [
       "     count    mean        std   min   25%   50%   75%    max\n",
       "0   1000.0   2.577   1.257638   1.0   1.0   2.0   4.0    4.0\n",
       "1   1000.0  20.903  12.058814   4.0  12.0  18.0  24.0   72.0\n",
       "2   1000.0   2.545   1.083120   0.0   2.0   2.0   4.0    4.0\n",
       "3   1000.0  32.711  28.252605   2.0  14.0  23.0  40.0  184.0\n",
       "4   1000.0   2.105   1.580023   1.0   1.0   1.0   3.0    5.0\n",
       "5   1000.0   3.384   1.208306   1.0   3.0   3.0   5.0    5.0\n",
       "6   1000.0   2.682   0.708080   1.0   2.0   3.0   3.0    4.0\n",
       "7   1000.0   2.845   1.103718   1.0   2.0   3.0   4.0    4.0\n",
       "8   1000.0   2.358   1.050209   1.0   1.0   2.0   3.0    4.0\n",
       "9   1000.0  35.546  11.375469  19.0  27.0  33.0  42.0   75.0\n",
       "10  1000.0   2.675   0.705601   1.0   3.0   3.0   3.0    3.0\n",
       "11  1000.0   1.407   0.577654   1.0   1.0   1.0   2.0    4.0\n",
       "12  1000.0   1.155   0.362086   1.0   1.0   1.0   1.0    2.0\n",
       "13  1000.0   1.404   0.490943   1.0   1.0   1.0   2.0    2.0\n",
       "14  1000.0   1.037   0.188856   1.0   1.0   1.0   1.0    2.0\n",
       "15  1000.0   0.234   0.423584   0.0   0.0   0.0   0.0    1.0\n",
       "16  1000.0   0.103   0.304111   0.0   0.0   0.0   0.0    1.0\n",
       "17  1000.0   0.907   0.290578   0.0   1.0   1.0   1.0    1.0\n",
       "18  1000.0   0.041   0.198389   0.0   0.0   0.0   0.0    1.0\n",
       "19  1000.0   0.179   0.383544   0.0   0.0   0.0   0.0    1.0\n",
       "20  1000.0   0.713   0.452588   0.0   0.0   1.0   1.0    1.0\n",
       "21  1000.0   0.022   0.146757   0.0   0.0   0.0   0.0    1.0\n",
       "22  1000.0   0.200   0.400200   0.0   0.0   0.0   0.0    1.0\n",
       "23  1000.0   0.630   0.483046   0.0   0.0   1.0   1.0    1.0\n",
       "24  1000.0   1.300   0.458487   1.0   1.0   1.0   2.0    2.0"
      ]
     },
     "execution_count": 860,
     "metadata": {},
     "output_type": "execute_result"
    }
   ],
   "source": [
    "df_numeric.describe().T"
   ]
  },
  {
   "cell_type": "markdown",
   "id": "2831b2f4",
   "metadata": {},
   "source": [
    "After reviewing both dataset - I've decided to go continue using only the german.data dataset - as I haven't found the exact column mapping scheme. 23 independent variables within the numeric dataset vs 19 of the original.\n",
    "\n",
    "I will start of by assigning each column based on documentation."
   ]
  },
  {
   "cell_type": "code",
   "execution_count": 861,
   "id": "11f73ace",
   "metadata": {},
   "outputs": [],
   "source": [
    "df.columns = ['status_existing_acc', 'duration_months', 'credit_history', 'purpose', 'amount', 'saving_acc', 'present_empl_since', 'installment_rate_perc', 'personal_status_sex', 'other_debtors',\n",
    "                        'residence_since', 'property', 'age', 'other_installment_plans', 'housing', 'no_existing_credits', 'job', 'no_people_liable', 'telephone', 'foreign_worker', 'target']"
   ]
  },
  {
   "cell_type": "code",
   "execution_count": 862,
   "id": "a9a3aafb",
   "metadata": {},
   "outputs": [
    {
     "data": {
      "text/html": [
       "<div>\n",
       "<style scoped>\n",
       "    .dataframe tbody tr th:only-of-type {\n",
       "        vertical-align: middle;\n",
       "    }\n",
       "\n",
       "    .dataframe tbody tr th {\n",
       "        vertical-align: top;\n",
       "    }\n",
       "\n",
       "    .dataframe thead th {\n",
       "        text-align: right;\n",
       "    }\n",
       "</style>\n",
       "<table border=\"1\" class=\"dataframe\">\n",
       "  <thead>\n",
       "    <tr style=\"text-align: right;\">\n",
       "      <th></th>\n",
       "      <th>count</th>\n",
       "      <th>mean</th>\n",
       "      <th>std</th>\n",
       "      <th>min</th>\n",
       "      <th>25%</th>\n",
       "      <th>50%</th>\n",
       "      <th>75%</th>\n",
       "      <th>max</th>\n",
       "    </tr>\n",
       "  </thead>\n",
       "  <tbody>\n",
       "    <tr>\n",
       "      <th>duration_months</th>\n",
       "      <td>1000.0</td>\n",
       "      <td>20.903</td>\n",
       "      <td>12.058814</td>\n",
       "      <td>4.0</td>\n",
       "      <td>12.0</td>\n",
       "      <td>18.0</td>\n",
       "      <td>24.00</td>\n",
       "      <td>72.0</td>\n",
       "    </tr>\n",
       "    <tr>\n",
       "      <th>amount</th>\n",
       "      <td>1000.0</td>\n",
       "      <td>3271.258</td>\n",
       "      <td>2822.736876</td>\n",
       "      <td>250.0</td>\n",
       "      <td>1365.5</td>\n",
       "      <td>2319.5</td>\n",
       "      <td>3972.25</td>\n",
       "      <td>18424.0</td>\n",
       "    </tr>\n",
       "    <tr>\n",
       "      <th>installment_rate_perc</th>\n",
       "      <td>1000.0</td>\n",
       "      <td>2.973</td>\n",
       "      <td>1.118715</td>\n",
       "      <td>1.0</td>\n",
       "      <td>2.0</td>\n",
       "      <td>3.0</td>\n",
       "      <td>4.00</td>\n",
       "      <td>4.0</td>\n",
       "    </tr>\n",
       "    <tr>\n",
       "      <th>residence_since</th>\n",
       "      <td>1000.0</td>\n",
       "      <td>2.845</td>\n",
       "      <td>1.103718</td>\n",
       "      <td>1.0</td>\n",
       "      <td>2.0</td>\n",
       "      <td>3.0</td>\n",
       "      <td>4.00</td>\n",
       "      <td>4.0</td>\n",
       "    </tr>\n",
       "    <tr>\n",
       "      <th>age</th>\n",
       "      <td>1000.0</td>\n",
       "      <td>35.546</td>\n",
       "      <td>11.375469</td>\n",
       "      <td>19.0</td>\n",
       "      <td>27.0</td>\n",
       "      <td>33.0</td>\n",
       "      <td>42.00</td>\n",
       "      <td>75.0</td>\n",
       "    </tr>\n",
       "    <tr>\n",
       "      <th>no_existing_credits</th>\n",
       "      <td>1000.0</td>\n",
       "      <td>1.407</td>\n",
       "      <td>0.577654</td>\n",
       "      <td>1.0</td>\n",
       "      <td>1.0</td>\n",
       "      <td>1.0</td>\n",
       "      <td>2.00</td>\n",
       "      <td>4.0</td>\n",
       "    </tr>\n",
       "    <tr>\n",
       "      <th>no_people_liable</th>\n",
       "      <td>1000.0</td>\n",
       "      <td>1.155</td>\n",
       "      <td>0.362086</td>\n",
       "      <td>1.0</td>\n",
       "      <td>1.0</td>\n",
       "      <td>1.0</td>\n",
       "      <td>1.00</td>\n",
       "      <td>2.0</td>\n",
       "    </tr>\n",
       "    <tr>\n",
       "      <th>target</th>\n",
       "      <td>1000.0</td>\n",
       "      <td>1.300</td>\n",
       "      <td>0.458487</td>\n",
       "      <td>1.0</td>\n",
       "      <td>1.0</td>\n",
       "      <td>1.0</td>\n",
       "      <td>2.00</td>\n",
       "      <td>2.0</td>\n",
       "    </tr>\n",
       "  </tbody>\n",
       "</table>\n",
       "</div>"
      ],
      "text/plain": [
       "                        count      mean          std    min     25%     50%  \\\n",
       "duration_months        1000.0    20.903    12.058814    4.0    12.0    18.0   \n",
       "amount                 1000.0  3271.258  2822.736876  250.0  1365.5  2319.5   \n",
       "installment_rate_perc  1000.0     2.973     1.118715    1.0     2.0     3.0   \n",
       "residence_since        1000.0     2.845     1.103718    1.0     2.0     3.0   \n",
       "age                    1000.0    35.546    11.375469   19.0    27.0    33.0   \n",
       "no_existing_credits    1000.0     1.407     0.577654    1.0     1.0     1.0   \n",
       "no_people_liable       1000.0     1.155     0.362086    1.0     1.0     1.0   \n",
       "target                 1000.0     1.300     0.458487    1.0     1.0     1.0   \n",
       "\n",
       "                           75%      max  \n",
       "duration_months          24.00     72.0  \n",
       "amount                 3972.25  18424.0  \n",
       "installment_rate_perc     4.00      4.0  \n",
       "residence_since           4.00      4.0  \n",
       "age                      42.00     75.0  \n",
       "no_existing_credits       2.00      4.0  \n",
       "no_people_liable          1.00      2.0  \n",
       "target                    2.00      2.0  "
      ]
     },
     "execution_count": 862,
     "metadata": {},
     "output_type": "execute_result"
    }
   ],
   "source": [
    "df.describe().T"
   ]
  },
  {
   "cell_type": "markdown",
   "id": "be4c8c51",
   "metadata": {},
   "source": [
    "In the describe function we miss quite a lot of features - obviously because they are categorical.\n",
    "\n",
    "Let's identify those:"
   ]
  },
  {
   "cell_type": "code",
   "execution_count": 863,
   "id": "dc1d3c1e",
   "metadata": {},
   "outputs": [
    {
     "data": {
      "text/plain": [
       "['status_existing_acc',\n",
       " 'credit_history',\n",
       " 'purpose',\n",
       " 'saving_acc',\n",
       " 'present_empl_since',\n",
       " 'personal_status_sex',\n",
       " 'other_debtors',\n",
       " 'property',\n",
       " 'other_installment_plans',\n",
       " 'housing',\n",
       " 'job',\n",
       " 'telephone',\n",
       " 'foreign_worker']"
      ]
     },
     "execution_count": 863,
     "metadata": {},
     "output_type": "execute_result"
    }
   ],
   "source": [
    "cat_cols = [col for col in df.columns if df[col].dtype == 'object']\n",
    "cat_cols"
   ]
  },
  {
   "cell_type": "code",
   "execution_count": 864,
   "id": "8674f90b",
   "metadata": {},
   "outputs": [
    {
     "data": {
      "text/plain": [
       "Index(['status_existing_acc', 'duration_months', 'credit_history', 'purpose',\n",
       "       'amount', 'saving_acc', 'present_empl_since', 'installment_rate_perc',\n",
       "       'personal_status_sex', 'other_debtors', 'residence_since', 'property',\n",
       "       'age', 'other_installment_plans', 'housing', 'no_existing_credits',\n",
       "       'job', 'no_people_liable', 'telephone', 'foreign_worker', 'target'],\n",
       "      dtype='object')"
      ]
     },
     "execution_count": 864,
     "metadata": {},
     "output_type": "execute_result"
    }
   ],
   "source": [
    "df.columns"
   ]
  },
  {
   "cell_type": "code",
   "execution_count": 865,
   "id": "e87353d8",
   "metadata": {},
   "outputs": [
    {
     "data": {
      "text/plain": [
       "array(['A11', 'A12', 'A14', 'A13'], dtype=object)"
      ]
     },
     "execution_count": 865,
     "metadata": {},
     "output_type": "execute_result"
    }
   ],
   "source": [
    "df['status_existing_acc'].unique()"
   ]
  },
  {
   "cell_type": "markdown",
   "id": "8071a0ad",
   "metadata": {},
   "source": [
    "Status of existing checking account\n",
    "- A11 :      ... <    0 DM\n",
    "- A12 : 0 <= ... <  200 DM\n",
    "- A13 :      ... >= 200 DM / salary assignments for at least 1 year\n",
    "- A14 : no checking account\n",
    "\n",
    "***Label Encoding*** - the values have a natural order - more and less money"
   ]
  },
  {
   "cell_type": "code",
   "execution_count": 866,
   "id": "f5e9e506",
   "metadata": {},
   "outputs": [
    {
     "data": {
      "text/plain": [
       "array([ 6, 48, 12, 42, 24, 36, 30, 15,  9, 10,  7, 60, 18, 45, 11, 27,  8,\n",
       "       54, 20, 14, 33, 21, 16,  4, 47, 13, 22, 39, 28,  5, 26, 72, 40])"
      ]
     },
     "execution_count": 866,
     "metadata": {},
     "output_type": "execute_result"
    }
   ],
   "source": [
    "df['duration_months'].unique()"
   ]
  },
  {
   "cell_type": "code",
   "execution_count": 867,
   "id": "5e20c877",
   "metadata": {},
   "outputs": [
    {
     "data": {
      "text/plain": [
       "array(['A34', 'A32', 'A33', 'A30', 'A31'], dtype=object)"
      ]
     },
     "execution_count": 867,
     "metadata": {},
     "output_type": "execute_result"
    }
   ],
   "source": [
    "df['credit_history'].unique()"
   ]
  },
  {
   "cell_type": "markdown",
   "id": "dac8b95a",
   "metadata": {},
   "source": [
    "Credit history\n",
    "- A30 : no credits taken/ all credits paid back duly\n",
    "- A31 : all credits at this bank paid back duly\n",
    "- A32 : existing credits paid back duly till now\n",
    "- A33 : delay in paying off in the past\n",
    "- A34 : critical account/ other credits existing (not at this bank)\n",
    "\n",
    "***One hot Encoding*** - different scenarios but not strictly ordered."
   ]
  },
  {
   "cell_type": "code",
   "execution_count": 868,
   "id": "9d47edc5",
   "metadata": {},
   "outputs": [
    {
     "data": {
      "text/plain": [
       "array(['A43', 'A46', 'A42', 'A40', 'A41', 'A49', 'A44', 'A45', 'A410',\n",
       "       'A48'], dtype=object)"
      ]
     },
     "execution_count": 868,
     "metadata": {},
     "output_type": "execute_result"
    }
   ],
   "source": [
    "df['purpose'].unique()"
   ]
  },
  {
   "cell_type": "markdown",
   "id": "3fdc0ae3",
   "metadata": {},
   "source": [
    "Purpose\n",
    "- A40 : car (new)\n",
    "- A41 : car (used)\n",
    "- A42 : furniture/equipment\n",
    "- A43 : radio/television\n",
    "- A44 : domestic appliances\n",
    "- A45 : repairs\n",
    "- A46 : education\n",
    "- A47 : (vacation - does not exist?)\n",
    "- A48 : retraining\n",
    "- A49 : business\n",
    "- A410 : others\n",
    "\n",
    "***One hot encoding*** - no ordering here as well - between such values as car vs business or education"
   ]
  },
  {
   "cell_type": "code",
   "execution_count": 869,
   "id": "0c2b6f7d",
   "metadata": {},
   "outputs": [
    {
     "data": {
      "text/plain": [
       "921"
      ]
     },
     "execution_count": 869,
     "metadata": {},
     "output_type": "execute_result"
    }
   ],
   "source": [
    "df['amount'].nunique()"
   ]
  },
  {
   "cell_type": "code",
   "execution_count": 870,
   "id": "b90e08c6",
   "metadata": {},
   "outputs": [
    {
     "data": {
      "text/plain": [
       "dtype('int64')"
      ]
     },
     "execution_count": 870,
     "metadata": {},
     "output_type": "execute_result"
    }
   ],
   "source": [
    "df['amount'].dtype"
   ]
  },
  {
   "cell_type": "code",
   "execution_count": 871,
   "id": "d0f072c4",
   "metadata": {},
   "outputs": [
    {
     "data": {
      "text/plain": [
       "array(['A65', 'A61', 'A63', 'A64', 'A62'], dtype=object)"
      ]
     },
     "execution_count": 871,
     "metadata": {},
     "output_type": "execute_result"
    }
   ],
   "source": [
    "df['saving_acc'].unique()"
   ]
  },
  {
   "cell_type": "markdown",
   "id": "aa485ff0",
   "metadata": {},
   "source": [
    "Savings account/bonds\n",
    "- A61 :          ... <  100 DM\n",
    "- A62 :   100 <= ... <  500 DM\n",
    "- A63 :   500 <= ... < 1000 DM\n",
    "- A64 :          .. >= 1000 DM\n",
    "- A65 :   unknown/ no savings account\n",
    "\n",
    "\n",
    "***Label encoding*** - ordinal - clear money scale as before"
   ]
  },
  {
   "cell_type": "code",
   "execution_count": 872,
   "id": "a4004a7d",
   "metadata": {},
   "outputs": [
    {
     "data": {
      "text/plain": [
       "array(['A75', 'A73', 'A74', 'A71', 'A72'], dtype=object)"
      ]
     },
     "execution_count": 872,
     "metadata": {},
     "output_type": "execute_result"
    }
   ],
   "source": [
    "df['present_empl_since'].unique()"
   ]
  },
  {
   "cell_type": "markdown",
   "id": "599d15f1",
   "metadata": {},
   "source": [
    "Present employment since\n",
    "- A71 : unemployed\n",
    "- A72 :       ... < 1 year\n",
    "- A73 : 1  <= ... < 4 years  \n",
    "- A74 : 4  <= ... < 7 years\n",
    "- A75 :       .. >= 7 years\n",
    "\n",
    "***Label encoding*** - experience order - more years = experience / stability?"
   ]
  },
  {
   "cell_type": "code",
   "execution_count": 873,
   "id": "ac6443c8",
   "metadata": {},
   "outputs": [
    {
     "data": {
      "text/plain": [
       "array([4, 2, 3, 1])"
      ]
     },
     "execution_count": 873,
     "metadata": {},
     "output_type": "execute_result"
    }
   ],
   "source": [
    "df['installment_rate_perc'].unique()"
   ]
  },
  {
   "cell_type": "markdown",
   "id": "78fdae6a",
   "metadata": {},
   "source": [
    "Installment rate in percentage of disposable income - numerical"
   ]
  },
  {
   "cell_type": "code",
   "execution_count": 874,
   "id": "feb30768",
   "metadata": {},
   "outputs": [
    {
     "data": {
      "text/plain": [
       "array(['A93', 'A92', 'A91', 'A94'], dtype=object)"
      ]
     },
     "execution_count": 874,
     "metadata": {},
     "output_type": "execute_result"
    }
   ],
   "source": [
    "df['personal_status_sex'].unique()"
   ]
  },
  {
   "cell_type": "markdown",
   "id": "2d648b2d",
   "metadata": {},
   "source": [
    "Personal status and sex\n",
    "- A91 : male   : divorced/separated\n",
    "- A92 : female : divorced/separated/married\n",
    "- A93 : male   : single\n",
    "- A94 : male   : married/widowed\n",
    "- A95 : female : single\n",
    "\n",
    "***One hot and Binary*** - this feature could be divided into two separate features. Sex will be binary and Status - no particular order, even though status could be somehow an indicator.\n",
    "\n"
   ]
  },
  {
   "cell_type": "code",
   "execution_count": 875,
   "id": "82dabe42",
   "metadata": {},
   "outputs": [
    {
     "data": {
      "text/plain": [
       "array(['A101', 'A103', 'A102'], dtype=object)"
      ]
     },
     "execution_count": 875,
     "metadata": {},
     "output_type": "execute_result"
    }
   ],
   "source": [
    "df['other_debtors'].unique()"
   ]
  },
  {
   "cell_type": "markdown",
   "id": "fce5bb98",
   "metadata": {},
   "source": [
    "Other debtors / guarantors\n",
    "- A101 : none\n",
    "- A102 : co-applicant\n",
    "- A103 : guarantor\n",
    "\n",
    "***One hot*** - nominal \n",
    "\n"
   ]
  },
  {
   "cell_type": "code",
   "execution_count": 876,
   "id": "115d4a20",
   "metadata": {},
   "outputs": [
    {
     "data": {
      "text/plain": [
       "array([4, 2, 3, 1])"
      ]
     },
     "execution_count": 876,
     "metadata": {},
     "output_type": "execute_result"
    }
   ],
   "source": [
    "df['residence_since'].unique()"
   ]
  },
  {
   "cell_type": "markdown",
   "id": "cb41fe70",
   "metadata": {},
   "source": [
    "\n",
    "Present residence since - numerical\n"
   ]
  },
  {
   "cell_type": "code",
   "execution_count": 877,
   "id": "34def4bd",
   "metadata": {},
   "outputs": [
    {
     "data": {
      "text/plain": [
       "array(['A121', 'A122', 'A124', 'A123'], dtype=object)"
      ]
     },
     "execution_count": 877,
     "metadata": {},
     "output_type": "execute_result"
    }
   ],
   "source": [
    "df['property'].unique()"
   ]
  },
  {
   "cell_type": "markdown",
   "id": "0e2fc47a",
   "metadata": {},
   "source": [
    "Property\n",
    "- A121 : real estate\n",
    "- A122 : if not A121 : building society savings agreement/ life insurance\n",
    "- A123 : if not A121/A122 : car or other, not in attribute 6\n",
    "- A124 : unknown / no property\n",
    "\n",
    "***One hot*** - type of property no order\n"
   ]
  },
  {
   "cell_type": "code",
   "execution_count": 878,
   "id": "c8bcfba9",
   "metadata": {},
   "outputs": [
    {
     "data": {
      "text/plain": [
       "array([67, 22, 49, 45, 53, 35, 61, 28, 25, 24, 60, 32, 44, 31, 48, 26, 36,\n",
       "       39, 42, 34, 63, 27, 30, 57, 33, 37, 58, 23, 29, 52, 50, 46, 51, 41,\n",
       "       40, 66, 47, 56, 54, 20, 21, 38, 70, 65, 74, 68, 43, 55, 64, 75, 19,\n",
       "       62, 59])"
      ]
     },
     "execution_count": 878,
     "metadata": {},
     "output_type": "execute_result"
    }
   ],
   "source": [
    "df['age'].unique()"
   ]
  },
  {
   "cell_type": "markdown",
   "id": "ed3addfb",
   "metadata": {},
   "source": [
    "Age in years - numerical"
   ]
  },
  {
   "cell_type": "code",
   "execution_count": 879,
   "id": "44264e67",
   "metadata": {},
   "outputs": [
    {
     "data": {
      "text/plain": [
       "array(['A143', 'A141', 'A142'], dtype=object)"
      ]
     },
     "execution_count": 879,
     "metadata": {},
     "output_type": "execute_result"
    }
   ],
   "source": [
    "df['other_installment_plans'].unique()"
   ]
  },
  {
   "cell_type": "markdown",
   "id": "e0a93d23",
   "metadata": {},
   "source": [
    "Other installment plans \n",
    "- A141 : bank\n",
    "- A142 : stores\n",
    "- A143 : none\n",
    "\n",
    "***One hot*** - nominal\n"
   ]
  },
  {
   "cell_type": "code",
   "execution_count": 880,
   "id": "6ef7f79b",
   "metadata": {},
   "outputs": [
    {
     "data": {
      "text/plain": [
       "array(['A152', 'A153', 'A151'], dtype=object)"
      ]
     },
     "execution_count": 880,
     "metadata": {},
     "output_type": "execute_result"
    }
   ],
   "source": [
    "df['housing'].unique()"
   ]
  },
  {
   "cell_type": "markdown",
   "id": "a2c65b8a",
   "metadata": {},
   "source": [
    "Housing\n",
    "- A151 : rent\n",
    "- A152 : own\n",
    "- A153 : for free\n",
    "\n",
    "***One hot*** - again nominal"
   ]
  },
  {
   "cell_type": "code",
   "execution_count": 881,
   "id": "6b93c650",
   "metadata": {},
   "outputs": [
    {
     "data": {
      "text/plain": [
       "array([2, 1, 3, 4])"
      ]
     },
     "execution_count": 881,
     "metadata": {},
     "output_type": "execute_result"
    }
   ],
   "source": [
    "df['no_existing_credits'].unique()"
   ]
  },
  {
   "cell_type": "markdown",
   "id": "7063f730",
   "metadata": {},
   "source": [
    "Number of existing credits at this bank - numerical"
   ]
  },
  {
   "cell_type": "code",
   "execution_count": 882,
   "id": "7009a30d",
   "metadata": {},
   "outputs": [
    {
     "data": {
      "text/plain": [
       "array(['A173', 'A172', 'A174', 'A171'], dtype=object)"
      ]
     },
     "execution_count": 882,
     "metadata": {},
     "output_type": "execute_result"
    }
   ],
   "source": [
    "df['job'].unique()"
   ]
  },
  {
   "cell_type": "markdown",
   "id": "967c27ce",
   "metadata": {},
   "source": [
    "Job\n",
    "- A171 : unemployed/ unskilled  - non-resident\n",
    "- A172 : unskilled - resident\n",
    "- A173 : skilled employee / official\n",
    "- A174 : management/ self-employed/ highly qualified employee/ officer\n",
    "\n",
    "***Label encoding*** ordinal: clear hierarchy in job stability/income"
   ]
  },
  {
   "cell_type": "code",
   "execution_count": 883,
   "id": "26a44b39",
   "metadata": {},
   "outputs": [
    {
     "data": {
      "text/plain": [
       "array([1, 2])"
      ]
     },
     "execution_count": 883,
     "metadata": {},
     "output_type": "execute_result"
    }
   ],
   "source": [
    "df['no_people_liable'].unique()"
   ]
  },
  {
   "cell_type": "markdown",
   "id": "167cfe75",
   "metadata": {},
   "source": [
    "Number of people being liable to provide maintenance for - numerical"
   ]
  },
  {
   "cell_type": "code",
   "execution_count": 884,
   "id": "a2f185c4",
   "metadata": {},
   "outputs": [
    {
     "data": {
      "text/plain": [
       "array(['A192', 'A191'], dtype=object)"
      ]
     },
     "execution_count": 884,
     "metadata": {},
     "output_type": "execute_result"
    }
   ],
   "source": [
    "df['telephone'].unique()"
   ]
  },
  {
   "cell_type": "markdown",
   "id": "ae83c599",
   "metadata": {},
   "source": [
    "Telephone\n",
    "- A191 : none\n",
    "- A192 : yes, registered under the customers name\n",
    "\n",
    "***Binary 0/1***"
   ]
  },
  {
   "cell_type": "code",
   "execution_count": 885,
   "id": "719ce8ea",
   "metadata": {},
   "outputs": [
    {
     "data": {
      "text/plain": [
       "array(['A201', 'A202'], dtype=object)"
      ]
     },
     "execution_count": 885,
     "metadata": {},
     "output_type": "execute_result"
    }
   ],
   "source": [
    "df['foreign_worker'].unique()"
   ]
  },
  {
   "cell_type": "markdown",
   "id": "ab0b0d5c",
   "metadata": {},
   "source": [
    "foreign worker\n",
    "- A201 : yes\n",
    "- A202 : no\n",
    "\n",
    "***Binary 0/1***"
   ]
  },
  {
   "cell_type": "code",
   "execution_count": 886,
   "id": "8bfcdba6",
   "metadata": {},
   "outputs": [
    {
     "data": {
      "text/plain": [
       "array([1, 2])"
      ]
     },
     "execution_count": 886,
     "metadata": {},
     "output_type": "execute_result"
    }
   ],
   "source": [
    "df['target'].unique()"
   ]
  },
  {
   "cell_type": "markdown",
   "id": "f69f74c1",
   "metadata": {},
   "source": [
    "Target\n",
    "- 1: Good \n",
    "- 2: Bad\n",
    "\n",
    "For simplicity and clarity - change to 1/0 as well ***Binary***"
   ]
  },
  {
   "cell_type": "markdown",
   "id": "23d35563",
   "metadata": {},
   "source": [
    "Summary of each variable:\n",
    "- Label encoding: col 1, 6, 7, 1 7\n",
    "- One Hot Encoding: col 3, 4, 9, 10, 12, 14, 15\n",
    "- Binary enconding: col 19, 20, 21 (target)\n",
    "- Numeric - kept as they are originally: col 2, 5, 8, 11, 13, 16, 18\n",
    "\n",
    "For now - only one col to be modified - a compound feature was identified within sex/status variable.\n"
   ]
  },
  {
   "cell_type": "code",
   "execution_count": 887,
   "id": "da85910f",
   "metadata": {},
   "outputs": [],
   "source": [
    "sex_status_mapping = {\n",
    "    'A91': ('male', 'divorced_separated'),\n",
    "    'A92': ('female', 'divorced_separated_married'),\n",
    "    'A93': ('male', 'single'),\n",
    "    'A94': ('male', 'married_widowed'),\n",
    "    'A95': ('female', 'single')\n",
    "}\n",
    "\n",
    "df[['sex', 'marital_status']] = df['personal_status_sex'].map(sex_status_mapping).apply(pd.Series)"
   ]
  },
  {
   "cell_type": "markdown",
   "id": "ee0ebf86",
   "metadata": {},
   "source": [
    "Getting rid of the previous column."
   ]
  },
  {
   "cell_type": "code",
   "execution_count": 888,
   "id": "28478f46",
   "metadata": {},
   "outputs": [
    {
     "data": {
      "text/plain": [
       "array(['male', 'female'], dtype=object)"
      ]
     },
     "execution_count": 888,
     "metadata": {},
     "output_type": "execute_result"
    }
   ],
   "source": [
    "df.drop(columns=['personal_status_sex'], inplace=True)\n",
    "\n",
    "df['sex'].unique()"
   ]
  },
  {
   "cell_type": "code",
   "execution_count": 889,
   "id": "be6ef9b7",
   "metadata": {},
   "outputs": [
    {
     "data": {
      "text/plain": [
       "array(['single', 'divorced_separated_married', 'divorced_separated',\n",
       "       'married_widowed'], dtype=object)"
      ]
     },
     "execution_count": 889,
     "metadata": {},
     "output_type": "execute_result"
    }
   ],
   "source": [
    "df['marital_status'].unique()"
   ]
  },
  {
   "cell_type": "markdown",
   "id": "9b182cc9",
   "metadata": {},
   "source": [
    "For now - basic column cleaning is settled - now encoding steps - starting off with Binary values (col 19, 20, 21 (target), + new value 'sex')\n",
    "- 'telephone'\n",
    "- 'foreign_worker'\n",
    "- 'target'\n",
    "- 'sex'"
   ]
  },
  {
   "cell_type": "code",
   "execution_count": 890,
   "id": "1bd4c6c8",
   "metadata": {},
   "outputs": [
    {
     "data": {
      "text/plain": [
       "array([1, 0])"
      ]
     },
     "execution_count": 890,
     "metadata": {},
     "output_type": "execute_result"
    }
   ],
   "source": [
    "df['telephone'] = df['telephone'].map({'A191': 0, 'A192':1})\n",
    "df['telephone'].unique()"
   ]
  },
  {
   "cell_type": "code",
   "execution_count": 891,
   "id": "ff93da51",
   "metadata": {},
   "outputs": [
    {
     "data": {
      "text/plain": [
       "array([0, 1])"
      ]
     },
     "execution_count": 891,
     "metadata": {},
     "output_type": "execute_result"
    }
   ],
   "source": [
    "df['foreign_worker'] = df['foreign_worker'].map({'A201':0, 'A202':1})\n",
    "df['foreign_worker'].unique()"
   ]
  },
  {
   "cell_type": "code",
   "execution_count": 892,
   "id": "52bf0108",
   "metadata": {},
   "outputs": [
    {
     "data": {
      "text/plain": [
       "array([1, 0])"
      ]
     },
     "execution_count": 892,
     "metadata": {},
     "output_type": "execute_result"
    }
   ],
   "source": [
    "df['target'] = df['target'].map({2: 0, 1:1})\n",
    "df['target'].unique()"
   ]
  },
  {
   "cell_type": "code",
   "execution_count": 893,
   "id": "a26aa6fc",
   "metadata": {},
   "outputs": [
    {
     "data": {
      "text/plain": [
       "array([0, 1])"
      ]
     },
     "execution_count": 893,
     "metadata": {},
     "output_type": "execute_result"
    }
   ],
   "source": [
    "df['sex'] = df['sex'].map({'male': 0, 'female':1})\n",
    "df['sex'].unique()"
   ]
  },
  {
   "cell_type": "markdown",
   "id": "e2bd4fa2",
   "metadata": {},
   "source": [
    "Label encoding: \n",
    "- status_existing_acc\n",
    "- saving_acc\n",
    "- present_empl_since\n",
    "- job"
   ]
  },
  {
   "cell_type": "code",
   "execution_count": 894,
   "id": "c270af46",
   "metadata": {},
   "outputs": [
    {
     "data": {
      "text/html": [
       "<div>\n",
       "<style scoped>\n",
       "    .dataframe tbody tr th:only-of-type {\n",
       "        vertical-align: middle;\n",
       "    }\n",
       "\n",
       "    .dataframe tbody tr th {\n",
       "        vertical-align: top;\n",
       "    }\n",
       "\n",
       "    .dataframe thead th {\n",
       "        text-align: right;\n",
       "    }\n",
       "</style>\n",
       "<table border=\"1\" class=\"dataframe\">\n",
       "  <thead>\n",
       "    <tr style=\"text-align: right;\">\n",
       "      <th></th>\n",
       "      <th>status_existing_acc</th>\n",
       "      <th>saving_acc</th>\n",
       "      <th>present_empl_since</th>\n",
       "      <th>job</th>\n",
       "    </tr>\n",
       "  </thead>\n",
       "  <tbody>\n",
       "    <tr>\n",
       "      <th>0</th>\n",
       "      <td>0</td>\n",
       "      <td>4</td>\n",
       "      <td>4</td>\n",
       "      <td>2</td>\n",
       "    </tr>\n",
       "    <tr>\n",
       "      <th>1</th>\n",
       "      <td>1</td>\n",
       "      <td>0</td>\n",
       "      <td>2</td>\n",
       "      <td>2</td>\n",
       "    </tr>\n",
       "    <tr>\n",
       "      <th>2</th>\n",
       "      <td>3</td>\n",
       "      <td>0</td>\n",
       "      <td>3</td>\n",
       "      <td>1</td>\n",
       "    </tr>\n",
       "    <tr>\n",
       "      <th>3</th>\n",
       "      <td>0</td>\n",
       "      <td>0</td>\n",
       "      <td>3</td>\n",
       "      <td>2</td>\n",
       "    </tr>\n",
       "    <tr>\n",
       "      <th>4</th>\n",
       "      <td>0</td>\n",
       "      <td>0</td>\n",
       "      <td>2</td>\n",
       "      <td>2</td>\n",
       "    </tr>\n",
       "  </tbody>\n",
       "</table>\n",
       "</div>"
      ],
      "text/plain": [
       "   status_existing_acc  saving_acc  present_empl_since  job\n",
       "0                    0           4                   4    2\n",
       "1                    1           0                   2    2\n",
       "2                    3           0                   3    1\n",
       "3                    0           0                   3    2\n",
       "4                    0           0                   2    2"
      ]
     },
     "execution_count": 894,
     "metadata": {},
     "output_type": "execute_result"
    }
   ],
   "source": [
    "from sklearn.preprocessing import LabelEncoder\n",
    "\n",
    "label_cols = ['status_existing_acc', 'saving_acc', 'present_empl_since', 'job']\n",
    "\n",
    "for col in label_cols:\n",
    "    le = LabelEncoder()\n",
    "    df[col] = le.fit_transform(df[col])\n",
    "\n",
    "df[label_cols].head()"
   ]
  },
  {
   "cell_type": "markdown",
   "id": "c8b5f283",
   "metadata": {},
   "source": [
    "One Hot Encoding: \n",
    "- 'credit_history'\n",
    "- 'purpose'\n",
    "- 'other_debtors'\n",
    "- 'property'\n",
    "- 'other_installment_plans'\n",
    "- 'housing'\n",
    "- 'marital_status'"
   ]
  },
  {
   "cell_type": "code",
   "execution_count": 895,
   "id": "9a4d4e2a",
   "metadata": {},
   "outputs": [
    {
     "data": {
      "text/html": [
       "<div>\n",
       "<style scoped>\n",
       "    .dataframe tbody tr th:only-of-type {\n",
       "        vertical-align: middle;\n",
       "    }\n",
       "\n",
       "    .dataframe tbody tr th {\n",
       "        vertical-align: top;\n",
       "    }\n",
       "\n",
       "    .dataframe thead th {\n",
       "        text-align: right;\n",
       "    }\n",
       "</style>\n",
       "<table border=\"1\" class=\"dataframe\">\n",
       "  <thead>\n",
       "    <tr style=\"text-align: right;\">\n",
       "      <th></th>\n",
       "      <th>status_existing_acc</th>\n",
       "      <th>duration_months</th>\n",
       "      <th>amount</th>\n",
       "      <th>saving_acc</th>\n",
       "      <th>present_empl_since</th>\n",
       "      <th>installment_rate_perc</th>\n",
       "      <th>residence_since</th>\n",
       "      <th>age</th>\n",
       "      <th>no_existing_credits</th>\n",
       "      <th>job</th>\n",
       "      <th>...</th>\n",
       "      <th>property_A122</th>\n",
       "      <th>property_A123</th>\n",
       "      <th>property_A124</th>\n",
       "      <th>other_installment_plans_A142</th>\n",
       "      <th>other_installment_plans_A143</th>\n",
       "      <th>housing_A152</th>\n",
       "      <th>housing_A153</th>\n",
       "      <th>marital_status_divorced_separated_married</th>\n",
       "      <th>marital_status_married_widowed</th>\n",
       "      <th>marital_status_single</th>\n",
       "    </tr>\n",
       "  </thead>\n",
       "  <tbody>\n",
       "    <tr>\n",
       "      <th>0</th>\n",
       "      <td>0</td>\n",
       "      <td>6</td>\n",
       "      <td>1169</td>\n",
       "      <td>4</td>\n",
       "      <td>4</td>\n",
       "      <td>4</td>\n",
       "      <td>4</td>\n",
       "      <td>67</td>\n",
       "      <td>2</td>\n",
       "      <td>2</td>\n",
       "      <td>...</td>\n",
       "      <td>False</td>\n",
       "      <td>False</td>\n",
       "      <td>False</td>\n",
       "      <td>False</td>\n",
       "      <td>True</td>\n",
       "      <td>True</td>\n",
       "      <td>False</td>\n",
       "      <td>False</td>\n",
       "      <td>False</td>\n",
       "      <td>True</td>\n",
       "    </tr>\n",
       "    <tr>\n",
       "      <th>1</th>\n",
       "      <td>1</td>\n",
       "      <td>48</td>\n",
       "      <td>5951</td>\n",
       "      <td>0</td>\n",
       "      <td>2</td>\n",
       "      <td>2</td>\n",
       "      <td>2</td>\n",
       "      <td>22</td>\n",
       "      <td>1</td>\n",
       "      <td>2</td>\n",
       "      <td>...</td>\n",
       "      <td>False</td>\n",
       "      <td>False</td>\n",
       "      <td>False</td>\n",
       "      <td>False</td>\n",
       "      <td>True</td>\n",
       "      <td>True</td>\n",
       "      <td>False</td>\n",
       "      <td>True</td>\n",
       "      <td>False</td>\n",
       "      <td>False</td>\n",
       "    </tr>\n",
       "    <tr>\n",
       "      <th>2</th>\n",
       "      <td>3</td>\n",
       "      <td>12</td>\n",
       "      <td>2096</td>\n",
       "      <td>0</td>\n",
       "      <td>3</td>\n",
       "      <td>2</td>\n",
       "      <td>3</td>\n",
       "      <td>49</td>\n",
       "      <td>1</td>\n",
       "      <td>1</td>\n",
       "      <td>...</td>\n",
       "      <td>False</td>\n",
       "      <td>False</td>\n",
       "      <td>False</td>\n",
       "      <td>False</td>\n",
       "      <td>True</td>\n",
       "      <td>True</td>\n",
       "      <td>False</td>\n",
       "      <td>False</td>\n",
       "      <td>False</td>\n",
       "      <td>True</td>\n",
       "    </tr>\n",
       "    <tr>\n",
       "      <th>3</th>\n",
       "      <td>0</td>\n",
       "      <td>42</td>\n",
       "      <td>7882</td>\n",
       "      <td>0</td>\n",
       "      <td>3</td>\n",
       "      <td>2</td>\n",
       "      <td>4</td>\n",
       "      <td>45</td>\n",
       "      <td>1</td>\n",
       "      <td>2</td>\n",
       "      <td>...</td>\n",
       "      <td>True</td>\n",
       "      <td>False</td>\n",
       "      <td>False</td>\n",
       "      <td>False</td>\n",
       "      <td>True</td>\n",
       "      <td>False</td>\n",
       "      <td>True</td>\n",
       "      <td>False</td>\n",
       "      <td>False</td>\n",
       "      <td>True</td>\n",
       "    </tr>\n",
       "    <tr>\n",
       "      <th>4</th>\n",
       "      <td>0</td>\n",
       "      <td>24</td>\n",
       "      <td>4870</td>\n",
       "      <td>0</td>\n",
       "      <td>2</td>\n",
       "      <td>3</td>\n",
       "      <td>4</td>\n",
       "      <td>53</td>\n",
       "      <td>2</td>\n",
       "      <td>2</td>\n",
       "      <td>...</td>\n",
       "      <td>False</td>\n",
       "      <td>False</td>\n",
       "      <td>True</td>\n",
       "      <td>False</td>\n",
       "      <td>True</td>\n",
       "      <td>False</td>\n",
       "      <td>True</td>\n",
       "      <td>False</td>\n",
       "      <td>False</td>\n",
       "      <td>True</td>\n",
       "    </tr>\n",
       "  </tbody>\n",
       "</table>\n",
       "<p>5 rows × 40 columns</p>\n",
       "</div>"
      ],
      "text/plain": [
       "   status_existing_acc  duration_months  amount  saving_acc  \\\n",
       "0                    0                6    1169           4   \n",
       "1                    1               48    5951           0   \n",
       "2                    3               12    2096           0   \n",
       "3                    0               42    7882           0   \n",
       "4                    0               24    4870           0   \n",
       "\n",
       "   present_empl_since  installment_rate_perc  residence_since  age  \\\n",
       "0                   4                      4                4   67   \n",
       "1                   2                      2                2   22   \n",
       "2                   3                      2                3   49   \n",
       "3                   3                      2                4   45   \n",
       "4                   2                      3                4   53   \n",
       "\n",
       "   no_existing_credits  job  ...  property_A122  property_A123  property_A124  \\\n",
       "0                    2    2  ...          False          False          False   \n",
       "1                    1    2  ...          False          False          False   \n",
       "2                    1    1  ...          False          False          False   \n",
       "3                    1    2  ...           True          False          False   \n",
       "4                    2    2  ...          False          False           True   \n",
       "\n",
       "   other_installment_plans_A142  other_installment_plans_A143  housing_A152  \\\n",
       "0                         False                          True          True   \n",
       "1                         False                          True          True   \n",
       "2                         False                          True          True   \n",
       "3                         False                          True         False   \n",
       "4                         False                          True         False   \n",
       "\n",
       "   housing_A153  marital_status_divorced_separated_married  \\\n",
       "0         False                                      False   \n",
       "1         False                                       True   \n",
       "2         False                                      False   \n",
       "3          True                                      False   \n",
       "4          True                                      False   \n",
       "\n",
       "   marital_status_married_widowed  marital_status_single  \n",
       "0                           False                   True  \n",
       "1                           False                  False  \n",
       "2                           False                   True  \n",
       "3                           False                   True  \n",
       "4                           False                   True  \n",
       "\n",
       "[5 rows x 40 columns]"
      ]
     },
     "execution_count": 895,
     "metadata": {},
     "output_type": "execute_result"
    }
   ],
   "source": [
    "one_hot_cols = [\n",
    "    'credit_history', 'purpose', 'other_debtors', \n",
    "    'property', 'other_installment_plans', 'housing', 'marital_status'\n",
    "]\n",
    "\n",
    "df = pd.get_dummies(df, columns=one_hot_cols, drop_first=True)\n",
    "\n",
    "df.head()"
   ]
  },
  {
   "cell_type": "markdown",
   "id": "d369489a",
   "metadata": {},
   "source": [
    "Dataset is now fully numeric, with ordinal categorical variables label-encoded, nominal variables one-hot encoded, binary yes/no features mapped to 0/1, and the target transformed to 0 = good, 1 = bad."
   ]
  },
  {
   "cell_type": "markdown",
   "id": "9266a780",
   "metadata": {},
   "source": [
    "EDA Visualizations for each col correlation + few of them seprately - chosen scenarios:"
   ]
  },
  {
   "cell_type": "code",
   "execution_count": 896,
   "id": "3cef38d9",
   "metadata": {},
   "outputs": [
    {
     "data": {
      "image/png": "[encoded data removed]",
      "text/plain": [
       "<Figure size 1600x800 with 2 Axes>"
      ]
     },
     "metadata": {},
     "output_type": "display_data"
    }
   ],
   "source": [
    "import matplotlib.pyplot as plt\n",
    "import seaborn as sns\n",
    "\n",
    "plt.figure(figsize=(16,8))\n",
    "sns.heatmap(df.corr(), cmap=\"coolwarm\", center=0, annot=False, cbar=True)\n",
    "plt.title(\"Correlation Matrix for each variable\", fontsize=16)\n",
    "plt.show()"
   ]
  },
  {
   "cell_type": "code",
   "execution_count": 897,
   "id": "8c5e4d83",
   "metadata": {},
   "outputs": [
    {
     "data": {
      "image/png": "[encoded data removed]",
      "text/plain": [
       "<Figure size 800x500 with 1 Axes>"
      ]
     },
     "metadata": {},
     "output_type": "display_data"
    }
   ],
   "source": [
    "plt.figure(figsize=(8,5))\n",
    "sns.histplot(df['age'], bins=30, kde=True, color='steelblue')\n",
    "plt.title(\"Distribution of Age\", fontsize=14)\n",
    "plt.xlabel(\"Age\")\n",
    "plt.ylabel(\"Occurrences\")\n",
    "plt.show()"
   ]
  },
  {
   "cell_type": "code",
   "execution_count": 898,
   "id": "0a5e6ab3",
   "metadata": {},
   "outputs": [
    {
     "data": {
      "image/png": "[encoded data removed]",
      "text/plain": [
       "<Figure size 800x500 with 1 Axes>"
      ]
     },
     "metadata": {},
     "output_type": "display_data"
    }
   ],
   "source": [
    "plt.figure(figsize=(8,5))\n",
    "sns.histplot(df['amount'], bins=40, kde=True, color='seagreen')\n",
    "plt.title(\"Distribution of Credit Amount\", fontsize=14)\n",
    "plt.xlabel(\"Credit Amount\")\n",
    "plt.ylabel(\"Occurrences\")\n",
    "plt.show()"
   ]
  },
  {
   "cell_type": "code",
   "execution_count": 899,
   "id": "f79358c3",
   "metadata": {},
   "outputs": [
    {
     "data": {
      "image/png": "[encoded data removed]",
      "text/plain": [
       "<Figure size 600x400 with 1 Axes>"
      ]
     },
     "metadata": {},
     "output_type": "display_data"
    }
   ],
   "source": [
    "plt.figure(figsize=(6,4))\n",
    "sns.countplot(x='sex', data=df, hue='sex', palette='Set2', legend=False)\n",
    "plt.title(\"Distribution of Sex\", fontsize=14)\n",
    "plt.xlabel(\"Sex 0 = Male, 1 = Female \")\n",
    "plt.ylabel(\"Count\")\n",
    "plt.show()"
   ]
  },
  {
   "cell_type": "code",
   "execution_count": 900,
   "id": "337ad6bf",
   "metadata": {},
   "outputs": [
    {
     "data": {
      "image/png": "[encoded data removed]",
      "text/plain": [
       "<Figure size 800x500 with 1 Axes>"
      ]
     },
     "metadata": {},
     "output_type": "display_data"
    }
   ],
   "source": [
    "plt.figure(figsize=(8,5))\n",
    "status_cols = [col for col in df.columns if col.startswith('marital_status')]\n",
    "df[status_cols].sum().plot(kind='bar', color='cornflowerblue')\n",
    "plt.title(\"Distribution of Marital Status\", fontsize=14)\n",
    "plt.ylabel(\"Count\")\n",
    "plt.show()"
   ]
  },
  {
   "cell_type": "code",
   "execution_count": 908,
   "id": "9f985ece",
   "metadata": {},
   "outputs": [
    {
     "data": {
      "image/png": "[encoded data removed]",
      "text/plain": [
       "<Figure size 800x500 with 1 Axes>"
      ]
     },
     "metadata": {},
     "output_type": "display_data"
    }
   ],
   "source": [
    "df['age_group'] = pd.cut(df['age'], bins=[18,25,35,50,70,100],\n",
    "                         labels=['18-25','26-35','36-50','51-70','70+'])\n",
    "\n",
    "plt.figure(figsize=(8,5))\n",
    "sns.barplot(x='age_group', y='target', data=df, hue='sex', legend=False, palette='viridis')\n",
    "\n",
    "plt.title(\"Default Rate by Age Group\", fontsize=14)\n",
    "plt.ylabel(\"Proportion of Bad Credit\")\n",
    "plt.show()"
   ]
  }
 ],
 "metadata": {
  "kernelspec": {
   "display_name": ".venv_credit_risk",
   "language": "python",
   "name": "python3"
  },
  "language_info": {
   "codemirror_mode": {
    "name": "ipython",
    "version": 3
   },
   "file_extension": ".py",
   "mimetype": "text/x-python",
   "name": "python",
   "nbconvert_exporter": "python",
   "pygments_lexer": "ipython3",
   "version": "3.9.6"
  }
 },
 "nbformat": 4,
 "nbformat_minor": 5
}
