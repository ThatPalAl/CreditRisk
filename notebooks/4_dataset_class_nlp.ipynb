{
 "cells": [
  {
   "cell_type": "code",
   "execution_count": 1,
   "id": "4e92d73f",
   "metadata": {},
   "outputs": [],
   "source": [
    "import torch"
   ]
  },
  {
   "cell_type": "code",
   "execution_count": null,
   "id": "fac3b065",
   "metadata": {},
   "outputs": [],
   "source": [
    "#classification/regression problems\n",
    "class CustomDataset:\n",
    "    def __init__(self, data, targets, tokenizer): #tokenizer \n",
    "        self.data = data\n",
    "        self.targets = targets\n",
    "        self.tokenizer = tokenizer\n",
    "\n",
    "    def __len__(self):\n",
    "        return len(self.data)\n",
    "    \n",
    "    def __getitem_(self, idx, tokenizer):\n",
    "        text = self.data[idx]\n",
    "        target = self.targets[idx]\n",
    "        tokenizer = self.tokenizer[idx]\n",
    "\n",
    "        input_ids = tokenizer(text) #fe: [101, 42, 47, 27, 216, ....] - we need to take care of padding - \n",
    "\n",
    "        if self.target.shape[1] > 1:\n",
    "            target = self.targets[idx, :]\n",
    "        else:\n",
    "            target = self.targets[idx]\n",
    "        \n",
    "        return{\n",
    "            \"input_ids\": torch.tensor(input_ids, dtype=torch.long),\n",
    "            # \"attention_mask\": torch.tensor(input_ids, dtype=torch.long), #if our tokenizer is returning an attention mask\n",
    "            \"target\": torch.tensor(target) #dtype not specified - depends on the problem/data\n",
    "        }"
   ]
  },
  {
   "cell_type": "markdown",
   "id": "e0b274cb",
   "metadata": {},
   "source": [
    "Returning targets depends on dataset and the dilemma, for example:\n",
    "- 0, 1 for binary \n",
    "- 1, 0, 2, 4 for multiclasses\n",
    "- [1, 0, 0, 1] multilabel\n",
    "        "
   ]
  },
  {
   "cell_type": "code",
   "execution_count": null,
   "id": "2323514c",
   "metadata": {},
   "outputs": [],
   "source": [
    "\n"
   ]
  }
 ],
 "metadata": {
  "kernelspec": {
   "display_name": "venv_credit_risk",
   "language": "python",
   "name": "python3"
  },
  "language_info": {
   "codemirror_mode": {
    "name": "ipython",
    "version": 3
   },
   "file_extension": ".py",
   "mimetype": "text/x-python",
   "name": "python",
   "nbconvert_exporter": "python",
   "pygments_lexer": "ipython3",
   "version": "3.12.2"
  }
 },
 "nbformat": 4,
 "nbformat_minor": 5
}
